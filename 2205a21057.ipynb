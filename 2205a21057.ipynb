{
  "nbformat": 4,
  "nbformat_minor": 0,
  "metadata": {
    "colab": {
      "provenance": [],
      "authorship_tag": "ABX9TyNyLCGT3DCv3MfnXhzPGEJq",
      "include_colab_link": true
    },
    "kernelspec": {
      "name": "python3",
      "display_name": "Python 3"
    },
    "language_info": {
      "name": "python"
    }
  },
  "cells": [
    {
      "cell_type": "markdown",
      "metadata": {
        "id": "view-in-github",
        "colab_type": "text"
      },
      "source": [
        "<a href=\"https://colab.research.google.com/github/Naveen21057/python/blob/main/2205a21057.ipynb\" target=\"_parent\"><img src=\"https://colab.research.google.com/assets/colab-badge.svg\" alt=\"Open In Colab\"/></a>"
      ]
    },
    {
      "cell_type": "code",
      "execution_count": 4,
      "metadata": {
        "colab": {
          "base_uri": "https://localhost:8080/"
        },
        "id": "Pqwu6yuK0kzv",
        "outputId": "8d32b7e3-d7bb-4fb5-df82-76734928bb7d"
      },
      "outputs": [
        {
          "output_type": "stream",
          "name": "stdout",
          "text": [
            "Qualification= ['venkat', 'B.Tech', 2006, 'Μ.Ε.', 2011, 'Ph.D', 2018]\n",
            "Experience= ['SSCE', 2007, 'infosys', '2011', 'ΑΙΤΑΜ', '2013', 'SREC', '2018']\n",
            "CA= ['venkat', 'B.Tech', 2006, 'Μ.Ε.', 2011, 'Ph.D', 2018, 'SSCE', 2007, 'infosys', '2011', 'ΑΙΤΑΜ', '2013', 'SREC', '2018']\n"
          ]
        }
      ],
      "source": [
        "Qualification=['venkat','B.Tech',2006,'Μ.Ε.',2011,'Ph.D', 2018]\n",
        "Experience=['SSCE', 2007, 'infosys', '2011', 'ΑΙΤΑΜ', '2013', 'SREC', '2018']\n",
        "CA=Qualification+Experience\n",
        "print(\"Qualification=\", Qualification)\n",
        "print(\"Experience=\", Experience)\n",
        "print(\"CA=\", CA)"
      ]
    },
    {
      "cell_type": "code",
      "source": [],
      "metadata": {
        "id": "K22zOeQG4TYq"
      },
      "execution_count": null,
      "outputs": []
    },
    {
      "cell_type": "code",
      "source": [
        "Qualification=['venkat','B.Tech',2006,'Μ.Ε.',2011,'Ph.D', 2018]\n",
        "print(Qualification)\n",
        "print(Qualification[0])\n",
        "print(Qualification[1:])\n",
        "print(Qualification[1:5])\n",
        "print(Qualification*2)\n",
        "print(Qualification[::-1])"
      ],
      "metadata": {
        "colab": {
          "base_uri": "https://localhost:8080/"
        },
        "id": "yNlY50oh33T1",
        "outputId": "8f0846d1-1e23-4362-d075-c198767b00e6"
      },
      "execution_count": 3,
      "outputs": [
        {
          "output_type": "stream",
          "name": "stdout",
          "text": [
            "['venkat', 'B.Tech', 2006, 'Μ.Ε.', 2011, 'Ph.D', 2018]\n",
            "venkat\n",
            "['B.Tech', 2006, 'Μ.Ε.', 2011, 'Ph.D', 2018]\n",
            "['B.Tech', 2006, 'Μ.Ε.', 2011]\n",
            "['venkat', 'B.Tech', 2006, 'Μ.Ε.', 2011, 'Ph.D', 2018, 'venkat', 'B.Tech', 2006, 'Μ.Ε.', 2011, 'Ph.D', 2018]\n",
            "[2018, 'Ph.D', 2011, 'Μ.Ε.', 2006, 'B.Tech', 'venkat']\n"
          ]
        }
      ]
    },
    {
      "cell_type": "code",
      "source": [
        "atuple=(' ramana', 1985, 'Thanmai',2014)\n",
        "str='venkat'\n",
        "list1=list(atuple)\n",
        "list2=list(str)\n",
        "print(list1)\n",
        "print(list2)"
      ],
      "metadata": {
        "colab": {
          "base_uri": "https://localhost:8080/"
        },
        "id": "by9h0kTe4Ywm",
        "outputId": "c8b8dc0a-9840-41f3-997d-6b1a677f7277"
      },
      "execution_count": 5,
      "outputs": [
        {
          "output_type": "stream",
          "name": "stdout",
          "text": [
            "[' ramana', 1985, 'Thanmai', 2014]\n",
            "['v', 'e', 'n', 'k', 'a', 't']\n"
          ]
        }
      ]
    },
    {
      "cell_type": "code",
      "source": [
        "Students=[ 'ram' , 'venkat']\n",
        "print(Students)\n",
        "Students.append ('Dev')\n",
        "print(Students)"
      ],
      "metadata": {
        "colab": {
          "base_uri": "https://localhost:8080/"
        },
        "id": "lAVyOaET4zXh",
        "outputId": "fd2c467a-8deb-4903-b579-71b3f0e0cffe"
      },
      "execution_count": 6,
      "outputs": [
        {
          "output_type": "stream",
          "name": "stdout",
          "text": [
            "['ram', 'venkat']\n",
            "['ram', 'venkat', 'Dev']\n"
          ]
        }
      ]
    },
    {
      "cell_type": "code",
      "source": [
        "Grade= ['A', 'A', 'B' ,'C','A']\n",
        "print( 'How many peoples got A grade' ,Grade. count('A' ))"
      ],
      "metadata": {
        "colab": {
          "base_uri": "https://localhost:8080/"
        },
        "id": "RzL1sSPE5ELI",
        "outputId": "86049e9d-e171-41b6-8917-e8ea8dda9a0e"
      },
      "execution_count": 7,
      "outputs": [
        {
          "output_type": "stream",
          "name": "stdout",
          "text": [
            "How many peoples got A grade 3\n"
          ]
        }
      ]
    },
    {
      "cell_type": "code",
      "source": [
        "Grade= ['A','A', 'B','C', 'A', 'B']\n",
        "print( 'lowest index for grade B' ,Grade. index('B'))"
      ],
      "metadata": {
        "colab": {
          "base_uri": "https://localhost:8080/"
        },
        "id": "-kpJreqf5Pnc",
        "outputId": "0c860700-3f20-4e75-f1c7-20dfd039d5f1"
      },
      "execution_count": 8,
      "outputs": [
        {
          "output_type": "stream",
          "name": "stdout",
          "text": [
            "lowest index for grade B 2\n"
          ]
        }
      ]
    },
    {
      "cell_type": "code",
      "source": [
        "Family=[ 'Venkat', 'Swetha']\n",
        "print( 'Family members' ,Family)\n",
        "atuple=('Dev', 'Thanmai')\n",
        "Family. extend(atuple)\n",
        "print( 'Family members' ,Family)"
      ],
      "metadata": {
        "colab": {
          "base_uri": "https://localhost:8080/"
        },
        "id": "CYYH1Vhe5SOy",
        "outputId": "e9e64349-ec77-4f10-d384-82c8a9632948"
      },
      "execution_count": 9,
      "outputs": [
        {
          "output_type": "stream",
          "name": "stdout",
          "text": [
            "Family members ['Venkat', 'Swetha']\n",
            "Family members ['Venkat', 'Swetha', 'Dev', 'Thanmai']\n"
          ]
        }
      ]
    },
    {
      "cell_type": "code",
      "source": [
        "Name=[ 'Ramana', 'Thanmai', 'Dev']\n",
        "print ('Family members' , Name )\n",
        "Name.insert(1, 'Swetha')\n",
        "print ( 'Family members' , Name )"
      ],
      "metadata": {
        "colab": {
          "base_uri": "https://localhost:8080/"
        },
        "id": "m05TMP-p5aBN",
        "outputId": "a2ba5526-b8a5-4363-bc53-bafed9143a9b"
      },
      "execution_count": 10,
      "outputs": [
        {
          "output_type": "stream",
          "name": "stdout",
          "text": [
            "Family members ['Ramana', 'Thanmai', 'Dev']\n",
            "Family members ['Ramana', 'Swetha', 'Thanmai', 'Dev']\n"
          ]
        }
      ]
    },
    {
      "cell_type": "code",
      "source": [
        "Family=['Ramana', 'Swetha' , 'Thanmai', 'Dev']\n",
        "print( 'Family members' , Family)\n",
        "Family. pop()\n",
        "print( 'Family members' , Family)\n",
        "Family.pop (2)\n",
        "print( 'Family members' , Family)"
      ],
      "metadata": {
        "colab": {
          "base_uri": "https://localhost:8080/"
        },
        "id": "EMlS9H3U5h18",
        "outputId": "71292c7a-d1cc-428d-8bfa-b06854ff998a"
      },
      "execution_count": 11,
      "outputs": [
        {
          "output_type": "stream",
          "name": "stdout",
          "text": [
            "Family members ['Ramana', 'Swetha', 'Thanmai', 'Dev']\n",
            "Family members ['Ramana', 'Swetha', 'Thanmai']\n",
            "Family members ['Ramana', 'Swetha']\n"
          ]
        }
      ]
    },
    {
      "cell_type": "code",
      "source": [
        "Family=['Ramana', 'Swetha', 'Thanmai', 'Dev']\n",
        "print( 'Family members' ,Family)\n",
        "Family. remove( 'Ramana')\n",
        "print ( 'Family members' , Family)"
      ],
      "metadata": {
        "colab": {
          "base_uri": "https://localhost:8080/"
        },
        "id": "oTT_SvnO5u--",
        "outputId": "b9d6fa3d-33ce-4079-dffd-a5dc207a95a9"
      },
      "execution_count": 12,
      "outputs": [
        {
          "output_type": "stream",
          "name": "stdout",
          "text": [
            "Family members ['Ramana', 'Swetha', 'Thanmai', 'Dev']\n",
            "Family members ['Swetha', 'Thanmai', 'Dev']\n"
          ]
        }
      ]
    },
    {
      "cell_type": "code",
      "source": [
        "\n",
        "\n",
        "Family=['Ramana', 'Swetha', 'Thanmai', 'Dev']\n",
        "print( 'Family members' ,Family)\n",
        "Family. reverse()\n",
        "print( 'Family members' , Family)\n",
        "\n",
        "\n",
        "Family=['Ramana', 'Swetha', 'Thanmai' , 'Dev']\n",
        "print( 'Family members', Family)\n",
        "Family.sort()\n",
        "print( 'Family members' , Family)\n",
        "\n"
      ],
      "metadata": {
        "colab": {
          "base_uri": "https://localhost:8080/"
        },
        "id": "L1toFx546ScQ",
        "outputId": "ac801780-5a1e-40ab-9b1d-530baf65d913"
      },
      "execution_count": 13,
      "outputs": [
        {
          "output_type": "stream",
          "name": "stdout",
          "text": [
            "Family members ['Ramana', 'Swetha', 'Thanmai', 'Dev']\n",
            "Family members ['Dev', 'Thanmai', 'Swetha', 'Ramana']\n",
            "Family members ['Ramana', 'Swetha', 'Thanmai', 'Dev']\n",
            "Family members ['Dev', 'Ramana', 'Swetha', 'Thanmai']\n"
          ]
        }
      ]
    },
    {
      "cell_type": "code",
      "source": [
        "list=[' venkat', '1985']\n",
        "print(list)\n",
        "del list[1]\n",
        "print(list)"
      ],
      "metadata": {
        "colab": {
          "base_uri": "https://localhost:8080/"
        },
        "id": "Llwv0kWl6bls",
        "outputId": "d877aa7e-1f5c-43aa-9168-0fe32cfeebc3"
      },
      "execution_count": 15,
      "outputs": [
        {
          "output_type": "stream",
          "name": "stdout",
          "text": [
            "[' venkat', '1985']\n",
            "[' venkat']\n"
          ]
        }
      ]
    },
    {
      "cell_type": "code",
      "source": [
        "Name= [ 'Ramana' , 'Thanmai', 'Dev']\n",
        "DOB= [1985,2014,2017]\n",
        "print( 'Number of peoples' , len (Name) )\n",
        "print(' ========')\n",
        "Details=Name+DOB # Concatination\n",
        "print( 'Biodata' ,Details)\n",
        "print('=========')\n",
        "Repetition=Name*2\n",
        "print( 'Repetition' ,Repetition)\n",
        "print('=========')\n",
        "for x in Name:\n",
        "   print (x)\n",
        "print( '========')"
      ],
      "metadata": {
        "colab": {
          "base_uri": "https://localhost:8080/"
        },
        "id": "JR5DdE5f6kAE",
        "outputId": "aa968064-54cd-49ec-d422-51c0fd340870"
      },
      "execution_count": 16,
      "outputs": [
        {
          "output_type": "stream",
          "name": "stdout",
          "text": [
            "Number of peoples 3\n",
            " ========\n",
            "Biodata ['Ramana', 'Thanmai', 'Dev', 1985, 2014, 2017]\n",
            "=========\n",
            "Repetition ['Ramana', 'Thanmai', 'Dev', 'Ramana', 'Thanmai', 'Dev']\n",
            "=========\n",
            "Ramana\n",
            "Thanmai\n",
            "Dev\n",
            "========\n"
          ]
        }
      ]
    },
    {
      "cell_type": "code",
      "source": [
        "Name=[ 'Ramana' , 'Thanmai', 'Dev']\n",
        "DOB= [1985, 2014,2017]\n",
        "print( 'Name with maximum charecters' ,max(Name) )\n",
        "print('Younger person DOB' , max(DOB) )\n",
        "print( 'Name with minimum charecters' , min (Name) )\n",
        "print('Older person DOB' ,min (DOB))"
      ],
      "metadata": {
        "colab": {
          "base_uri": "https://localhost:8080/"
        },
        "id": "xnTO3SPl6sKF",
        "outputId": "69788826-44bd-4e03-d0cb-57035f7eb112"
      },
      "execution_count": 17,
      "outputs": [
        {
          "output_type": "stream",
          "name": "stdout",
          "text": [
            "Name with maximum charecters Thanmai\n",
            "Younger person DOB 2017\n",
            "Name with minimum charecters Dev\n",
            "Older person DOB 1985\n"
          ]
        }
      ]
    },
    {
      "cell_type": "code",
      "source": [
        "Students=['ram', 'venkat']\n",
        "print(Students)\n",
        "Students.append('Dev')\n",
        "print (Students)"
      ],
      "metadata": {
        "colab": {
          "base_uri": "https://localhost:8080/"
        },
        "id": "mdHPv2Rp6z9_",
        "outputId": "97136fa6-2d2d-419b-fc9d-e391ea512e3f"
      },
      "execution_count": 18,
      "outputs": [
        {
          "output_type": "stream",
          "name": "stdout",
          "text": [
            "['ram', 'venkat']\n",
            "['ram', 'venkat', 'Dev']\n"
          ]
        }
      ]
    },
    {
      "cell_type": "code",
      "source": [
        "tuple=('venkat', 'B.Tech' ,2006)\n",
        "print(tuple)\n",
        "print(tuple[0])\n",
        "print(tuple[0:2])\n",
        "print(tuple[0:])\n",
        "print(tuple[:: -1])\n",
        "print(tuple[2:0:-1])"
      ],
      "metadata": {
        "colab": {
          "base_uri": "https://localhost:8080/"
        },
        "id": "hedZSs4E62mm",
        "outputId": "ad96330c-214e-412c-9d27-807e89bd96c3"
      },
      "execution_count": 19,
      "outputs": [
        {
          "output_type": "stream",
          "name": "stdout",
          "text": [
            "('venkat', 'B.Tech', 2006)\n",
            "venkat\n",
            "('venkat', 'B.Tech')\n",
            "('venkat', 'B.Tech', 2006)\n",
            "(2006, 'B.Tech', 'venkat')\n",
            "(2006, 'B.Tech')\n"
          ]
        }
      ]
    },
    {
      "cell_type": "code",
      "source": [
        "tiny={ 'Name' : 'Venkat', 'Marks' :891}\n",
        "print(tiny)\n",
        "print (tiny[ 'Name'])\n",
        "print (tiny[ 'Marks'])\n",
        "tiny[ 'Name' ]='ramana'\n",
        "print(tiny)"
      ],
      "metadata": {
        "colab": {
          "base_uri": "https://localhost:8080/"
        },
        "id": "ZQuxmHZt7Cws",
        "outputId": "4b34be6b-734c-411e-928d-a64a6fb4637b"
      },
      "execution_count": 20,
      "outputs": [
        {
          "output_type": "stream",
          "name": "stdout",
          "text": [
            "{'Name': 'Venkat', 'Marks': 891}\n",
            "Venkat\n",
            "891\n",
            "{'Name': 'ramana', 'Marks': 891}\n"
          ]
        }
      ]
    },
    {
      "cell_type": "code",
      "source": [
        "dict={}\n",
        "print(dict)\n",
        "dict['one']='This is one'\n",
        "dict['2']='This is two'\n",
        "print(dict)\n",
        "print(dict.keys())\n",
        "print(dict.values())"
      ],
      "metadata": {
        "colab": {
          "base_uri": "https://localhost:8080/"
        },
        "id": "qWxnpHi47FT5",
        "outputId": "42c8e88c-b443-4949-c6ae-df8a13fe501e"
      },
      "execution_count": 21,
      "outputs": [
        {
          "output_type": "stream",
          "name": "stdout",
          "text": [
            "{}\n",
            "{'one': 'This is one', '2': 'This is two'}\n",
            "dict_keys(['one', '2'])\n",
            "dict_values(['This is one', 'This is two'])\n"
          ]
        }
      ]
    },
    {
      "cell_type": "code",
      "source": [
        "tuple=('venkat', 'B.Tech' ,2006)\n",
        "pgtuple=('M.E','2011')\n",
        "print(tuple*2)\n",
        "print(tuple + pgtuple)\n",
        "List=['venkat', 'Ph.D' ,2018]\n",
        "print(List)\n",
        "List[0]='Ramana'\n",
        "print(List)"
      ],
      "metadata": {
        "colab": {
          "base_uri": "https://localhost:8080/"
        },
        "id": "tEgbxq-p7QJa",
        "outputId": "55417913-9514-445f-c5d0-6212cee016ff"
      },
      "execution_count": 22,
      "outputs": [
        {
          "output_type": "stream",
          "name": "stdout",
          "text": [
            "('venkat', 'B.Tech', 2006, 'venkat', 'B.Tech', 2006)\n",
            "('venkat', 'B.Tech', 2006, 'M.E', '2011')\n",
            "['venkat', 'Ph.D', 2018]\n",
            "['Ramana', 'Ph.D', 2018]\n"
          ]
        }
      ]
    },
    {
      "cell_type": "code",
      "source": [
        "thisset = {\"apple\" , \"banana\", \"cherry\"}\n",
        "mylist = [\"kiwi\", \"orange\"]\n",
        "mylist_2=(2,3)\n",
        "mylist_3={\"Name\": \"Venkat\", \"School\" : \"SRU\"}\n",
        "thisset.update(mylist)\n",
        "thisset.update(mylist_2)\n",
        "thisset.update(mylist_3)\n",
        "print(thisset)"
      ],
      "metadata": {
        "colab": {
          "base_uri": "https://localhost:8080/"
        },
        "id": "QckQH9bP7XTg",
        "outputId": "643e9d69-fb6d-4efd-f6d3-303b7317c399"
      },
      "execution_count": 23,
      "outputs": [
        {
          "output_type": "stream",
          "name": "stdout",
          "text": [
            "{'School', 2, 3, 'Name', 'orange', 'banana', 'apple', 'cherry', 'kiwi'}\n"
          ]
        }
      ]
    },
    {
      "cell_type": "code",
      "source": [
        "thisset = {\"apple\", \"banana\", \"cherry\"}\n",
        "tropical = {\"pineapple\", \"mango\", \"papaya\"}\n",
        "thisset.update(tropical)\n",
        "print(thisset)"
      ],
      "metadata": {
        "colab": {
          "base_uri": "https://localhost:8080/"
        },
        "id": "XRTWQd4w7evR",
        "outputId": "60ba13bf-c29b-468f-d557-45dd9c92b591"
      },
      "execution_count": 24,
      "outputs": [
        {
          "output_type": "stream",
          "name": "stdout",
          "text": [
            "{'apple', 'pineapple', 'cherry', 'papaya', 'banana', 'mango'}\n"
          ]
        }
      ]
    },
    {
      "cell_type": "code",
      "source": [
        "thisset = {\"apple\", \"banana\", \"cherry\"}\n",
        "for x in thisset:\n",
        "  print (x)\n"
      ],
      "metadata": {
        "colab": {
          "base_uri": "https://localhost:8080/"
        },
        "id": "qXN0Dt6T7liK",
        "outputId": "cb4baf5e-5f62-45c9-a177-b0d87f7faa85"
      },
      "execution_count": 25,
      "outputs": [
        {
          "output_type": "stream",
          "name": "stdout",
          "text": [
            "apple\n",
            "cherry\n",
            "banana\n"
          ]
        }
      ]
    }
  ]
}