{
  "nbformat": 4,
  "nbformat_minor": 0,
  "metadata": {
    "colab": {
      "provenance": [],
      "authorship_tag": "ABX9TyNB95WeEhq/gFVZu3UhPsVl",
      "include_colab_link": true
    },
    "kernelspec": {
      "name": "python3",
      "display_name": "Python 3"
    },
    "language_info": {
      "name": "python"
    }
  },
  "cells": [
    {
      "cell_type": "markdown",
      "metadata": {
        "id": "view-in-github",
        "colab_type": "text"
      },
      "source": [
        "<a href=\"https://colab.research.google.com/github/Naveen21057/python/blob/main/2205A21057ipynb.ipynb\" target=\"_parent\"><img src=\"https://colab.research.google.com/assets/colab-badge.svg\" alt=\"Open In Colab\"/></a>"
      ]
    },
    {
      "cell_type": "code",
      "execution_count": 1,
      "metadata": {
        "colab": {
          "base_uri": "https://localhost:8080/"
        },
        "id": "s_l8Gg7Ffgys",
        "outputId": "92f29394-e9e5-40a2-ea10-cacace13f8c8"
      },
      "outputs": [
        {
          "output_type": "stream",
          "name": "stdout",
          "text": [
            "++++++\n",
            "+++++\n",
            "++++\n",
            "+++\n",
            "++\n",
            "+\n",
            "PATTERN-1\n",
            "\n",
            "\n",
            "*\n",
            "**\n",
            "***\n",
            "****\n",
            "*****\n",
            "******\n",
            "PATTERN-2\n",
            "\n",
            "     *\n",
            "    **\n",
            "   ***\n",
            "  ****\n",
            " *****\n",
            "******\n",
            "PATTERN-3\n",
            "\n",
            "++++++\n",
            " +++++\n",
            "  ++++\n",
            "   +++\n",
            "    ++\n",
            "     +\n",
            "PATTERN-4\n",
            "\n"
          ]
        }
      ],
      "source": [
        "rows = 6\n",
        "i = rows\n",
        "while i > 0:\n",
        "    j = 0\n",
        "    while j < i:\n",
        "        print('+', end='')\n",
        "        j += 1\n",
        "    print('')\n",
        "    i -= 1\n",
        "print('PATTERN-1\\n')\n",
        "\n",
        "\n",
        "\n",
        "rows = 6\n",
        "i = 0\n",
        "while i <= rows:\n",
        "    j = 0\n",
        "    while j < i:\n",
        "        print('*', end='')\n",
        "        j += 1\n",
        "    print('')\n",
        "    i += 1\n",
        "print('PATTERN-2\\n')\n",
        "\n",
        "\n",
        "\n",
        "\n",
        "rows = 6\n",
        "i = 0\n",
        "while i < rows:\n",
        "    j = 0\n",
        "    while j < (rows - i - 1):\n",
        "        print(\" \", end='')\n",
        "        j += 1\n",
        "    j = 0\n",
        "    while j <= i:\n",
        "        print(\"*\", end='')\n",
        "        j += 1\n",
        "    print('')\n",
        "    i += 1\n",
        "print('PATTERN-3\\n')\n",
        "\n",
        "\n",
        "\n",
        "\n",
        "\n",
        "\n",
        "rows = 6\n",
        "i = 0\n",
        "while i < rows:\n",
        "    print(' ' * i, end='')\n",
        "    print('+' * (rows - i))\n",
        "    i += 1\n",
        "print('PATTERN-4\\n')"
      ]
    }
  ]
}