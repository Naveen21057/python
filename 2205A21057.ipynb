{
  "nbformat": 4,
  "nbformat_minor": 0,
  "metadata": {
    "colab": {
      "provenance": [],
      "authorship_tag": "ABX9TyMdzJbBA4aOFpeKQcG0ZMEO",
      "include_colab_link": true
    },
    "kernelspec": {
      "name": "python3",
      "display_name": "Python 3"
    },
    "language_info": {
      "name": "python"
    }
  },
  "cells": [
    {
      "cell_type": "markdown",
      "metadata": {
        "id": "view-in-github",
        "colab_type": "text"
      },
      "source": [
        "<a href=\"https://colab.research.google.com/github/Naveen21057/python/blob/main/2205A21057.ipynb\" target=\"_parent\"><img src=\"https://colab.research.google.com/assets/colab-badge.svg\" alt=\"Open In Colab\"/></a>"
      ]
    },
    {
      "cell_type": "code",
      "source": [
        "rows=6\n",
        "for i in range(rows,0,-1):\n",
        "    for j in range(0,i):\n",
        "        print('+',end='')\n",
        "    print('')\n",
        "print('PATTERN-1')\n",
        "print('\\n')\n",
        "\n",
        "rows=6\n",
        "for i in range(rows+1):\n",
        "    for j in range(i):\n",
        "        print(\"*\",end='')\n",
        "    print('')\n",
        "print('PATTERN-2')\n",
        "print('\\n')\n",
        "\n",
        "rows=6\n",
        "for i in range(rows):\n",
        "    for j in range(rows-i-1):\n",
        "        print(\" \",end='')\n",
        "    for j in range(i+1):\n",
        "        print(\"*\",end='')\n",
        "    print('')\n",
        "print('PATTERN-3')\n",
        "print('\\n')\n",
        "\n",
        "rows=6\n",
        "for i in range(rows):\n",
        "    print(' ' * (i * 1), end='')\n",
        "    print('+' * (rows - i))\n",
        "print('PATTERN-4')\n",
        "print('\\n')"
      ],
      "metadata": {
        "colab": {
          "base_uri": "https://localhost:8080/"
        },
        "id": "jG5hnLnnYBzE",
        "outputId": "a9f77c2c-dc8a-4008-e449-265e54179e1b"
      },
      "execution_count": 2,
      "outputs": [
        {
          "output_type": "stream",
          "name": "stdout",
          "text": [
            "++++++\n",
            "+++++\n",
            "++++\n",
            "+++\n",
            "++\n",
            "+\n",
            "PATTERN-1\n",
            "\n",
            "\n",
            "\n",
            "*\n",
            "**\n",
            "***\n",
            "****\n",
            "*****\n",
            "******\n",
            "PATTERN-2\n",
            "\n",
            "\n",
            "     *\n",
            "    **\n",
            "   ***\n",
            "  ****\n",
            " *****\n",
            "******\n",
            "PATTERN-3\n",
            "\n",
            "\n",
            "++++++\n",
            " +++++\n",
            "  ++++\n",
            "   +++\n",
            "    ++\n",
            "     +\n",
            "PATTERN-4\n",
            "\n",
            "\n"
          ]
        }
      ]
    }
  ]
}